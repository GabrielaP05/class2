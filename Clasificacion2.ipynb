{
  "nbformat": 4,
  "nbformat_minor": 0,
  "metadata": {
    "colab": {
      "provenance": [],
      "authorship_tag": "ABX9TyOh868ZJ5a2oLL5E/HAQlCE",
      "include_colab_link": true
    },
    "kernelspec": {
      "name": "python3",
      "display_name": "Python 3"
    },
    "language_info": {
      "name": "python"
    }
  },
  "cells": [
    {
      "cell_type": "markdown",
      "metadata": {
        "id": "view-in-github",
        "colab_type": "text"
      },
      "source": [
        "<a href=\"https://colab.research.google.com/github/GabrielaP05/class2/blob/main/Clasificacion2.ipynb\" target=\"_parent\"><img src=\"https://colab.research.google.com/assets/colab-badge.svg\" alt=\"Open In Colab\"/></a>"
      ]
    },
    {
      "source": [
        "import pandas as pd\n",
        "from sklearn.model_selection import train_test_split\n",
        "from sklearn.ensemble import RandomForestClassifier\n",
        "from sklearn.metrics import confusion_matrix, accuracy_score, f1_score\n",
        "import matplotlib.pyplot as plt\n",
        "import seaborn as sns\n",
        "# gdown para descargar archivos de Google Drive\n",
        "!pip install gdown\n",
        "\n",
        "file_id = '1XHmylmQS9P3NJ-71GviyRaNH2R6WQ8jq'\n",
        "file_path = f'https://drive.google.com/uc?id={file_id}'\n",
        "\n",
        "# Descarga el archivo\n",
        "!gdown {file_path}\n",
        "\n",
        "!ls\n",
        "\n",
        "\n",
        "datos_descargados = 'datos_descargados.csv'\n",
        "df = pd.read_csv(datos_descargados)\n",
        "\n",
        "\n",
        "# Imprime los nombres de las columnas para verificar si 'death_event' existe y busca errores tipográficos\n",
        "print(df.columns)\n",
        "\n",
        "# Assuming 'DEATH_EVENT' is your target variable, check for typos and adjust if necessary\n",
        "y = df['DEATH_EVENT']  # Check if the column name is capitalized\n",
        "X = df.drop('DEATH_EVENT', axis=1)  # Adjust if needed\n",
        "\n",
        "# Check if 'categoria_edad' exists in the DataFrame\n",
        "if 'categoria_edad' in X.columns:\n",
        "    # Drop 'categoria_edad' from X before splitting the data\n",
        "    X = X.drop(columns=['categoria_edad']) # Dropping before the split\n",
        "else:\n",
        "    print(\"Warning: 'categoria_edad' not found in DataFrame. Skipping drop operation.\")\n",
        "\n",
        "# Dividir en conjunto de entrenamiento y prueba (estratificado)\n",
        "X_train, X_test, y_train, y_test = train_test_split(X, y, test_size=0.2, stratify=y, random_state=42)\n",
        "\n",
        "# Inicializar el clasificador Random Forest\n",
        "rf_clf = RandomForestClassifier(random_state=42)\n",
        "\n",
        "# Ajustar el modelo al conjunto de entrenamiento\n",
        "rf_clf.fit(X_train, y_train)\n",
        "\n",
        "# Predecir sobre el conjunto de prueba\n",
        "y_pred = rf_clf.predict(X_test)\n",
        "\n",
        "# Calcular la matriz de confusión\n",
        "conf_matrix = confusion_matrix(y_test, y_pred)\n",
        "print(\"Matriz de Confusión:\")\n",
        "print(conf_matrix)\n",
        "\n",
        "# Calcular la exactitud (accuracy)\n",
        "accuracy = accuracy_score(y_test, y_pred)\n",
        "print(f'Exactitud del Random Forest: {accuracy:.4f}')\n",
        "\n",
        "# Calcular el F1-Score\n",
        "f1 = f1_score(y_test, y_pred)\n",
        "print(f'F1-Score del Random Forest: {f1:.4f}')\n",
        "\n",
        "from sklearn.model_selection import GridSearchCV\n",
        "\n",
        "# Definir los parámetros para la búsqueda en cuadrícula\n",
        "param_grid = {\n",
        "    'n_estimators': [50, 100, 200],\n",
        "    'max_depth': [None, 5, 10, 15],\n",
        "    'min_samples_split': [2, 5, 10],\n",
        "    'min_samples_leaf': [1, 2, 4]\n",
        "}\n",
        "\n",
        "# Inicializar el clasificador Random Forest\n",
        "rf_clf = RandomForestClassifier(random_state=42)\n",
        "\n",
        "# Configurar la búsqueda en cuadrícula con validación cruzada\n",
        "grid_search = GridSearchCV(rf_clf, param_grid, cv=5, scoring='accuracy', verbose=1)\n",
        "\n",
        "# Ajustar la búsqueda en cuadrícula al conjunto de entrenamiento\n",
        "grid_search.fit(X_train, y_train)\n",
        "\n",
        "# Obtener el mejor modelo\n",
        "best_rf_model = grid_search.best_estimator_\n",
        "\n",
        "# Mostrar los mejores parámetros encontrados\n",
        "print(f'Mejores parámetros: {grid_search.best_params_}')\n",
        "\n",
        "# Predecir sobre el conjunto de prueba con el mejor modelo\n",
        "y_pred_best = best_rf_model.predict(X_test)"
      ],
      "cell_type": "code",
      "metadata": {
        "colab": {
          "base_uri": "https://localhost:8080/"
        },
        "id": "Iupkzfkoxd9Z",
        "outputId": "f5fb3ea5-0169-4ff9-fa97-27f8f7b3ef3a"
      },
      "execution_count": 9,
      "outputs": [
        {
          "output_type": "stream",
          "name": "stdout",
          "text": [
            "Requirement already satisfied: gdown in /usr/local/lib/python3.10/dist-packages (5.1.0)\n",
            "Requirement already satisfied: beautifulsoup4 in /usr/local/lib/python3.10/dist-packages (from gdown) (4.12.3)\n",
            "Requirement already satisfied: filelock in /usr/local/lib/python3.10/dist-packages (from gdown) (3.15.3)\n",
            "Requirement already satisfied: requests[socks] in /usr/local/lib/python3.10/dist-packages (from gdown) (2.31.0)\n",
            "Requirement already satisfied: tqdm in /usr/local/lib/python3.10/dist-packages (from gdown) (4.66.4)\n",
            "Requirement already satisfied: soupsieve>1.2 in /usr/local/lib/python3.10/dist-packages (from beautifulsoup4->gdown) (2.5)\n",
            "Requirement already satisfied: charset-normalizer<4,>=2 in /usr/local/lib/python3.10/dist-packages (from requests[socks]->gdown) (3.3.2)\n",
            "Requirement already satisfied: idna<4,>=2.5 in /usr/local/lib/python3.10/dist-packages (from requests[socks]->gdown) (3.7)\n",
            "Requirement already satisfied: urllib3<3,>=1.21.1 in /usr/local/lib/python3.10/dist-packages (from requests[socks]->gdown) (2.0.7)\n",
            "Requirement already satisfied: certifi>=2017.4.17 in /usr/local/lib/python3.10/dist-packages (from requests[socks]->gdown) (2024.6.2)\n",
            "Requirement already satisfied: PySocks!=1.5.7,>=1.5.6 in /usr/local/lib/python3.10/dist-packages (from requests[socks]->gdown) (1.7.1)\n",
            "Downloading...\n",
            "From: https://drive.google.com/uc?id=1XHmylmQS9P3NJ-71GviyRaNH2R6WQ8jq\n",
            "To: /content/datos_descargados.csv\n",
            "100% 12.2k/12.2k [00:00<00:00, 22.1MB/s]\n",
            "datos_descargados.csv  sample_data\n",
            "Index(['age', 'anaemia', 'creatinine_phosphokinase', 'diabetes',\n",
            "       'ejection_fraction', 'high_blood_pressure', 'platelets',\n",
            "       'serum_creatinine', 'serum_sodium', 'sex', 'smoking', 'time',\n",
            "       'DEATH_EVENT'],\n",
            "      dtype='object')\n",
            "Warning: 'categoria_edad' not found in DataFrame. Skipping drop operation.\n",
            "Matriz de Confusión:\n",
            "[[38  3]\n",
            " [ 7 12]]\n",
            "Exactitud del Random Forest: 0.8333\n",
            "F1-Score del Random Forest: 0.7059\n",
            "Fitting 5 folds for each of 108 candidates, totalling 540 fits\n",
            "Mejores parámetros: {'max_depth': 5, 'min_samples_leaf': 2, 'min_samples_split': 5, 'n_estimators': 50}\n"
          ]
        }
      ]
    }
  ]
}